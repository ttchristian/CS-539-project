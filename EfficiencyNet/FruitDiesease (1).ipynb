{
  "nbformat": 4,
  "nbformat_minor": 0,
  "metadata": {
    "colab": {
      "provenance": [],
      "gpuType": "T4"
    },
    "kernelspec": {
      "name": "python3",
      "display_name": "Python 3"
    },
    "language_info": {
      "name": "python"
    },
    "accelerator": "GPU"
  },
  "cells": [
    {
      "cell_type": "code",
      "execution_count": 1,
      "metadata": {
        "id": "I3Xnc8BfrnTZ",
        "colab": {
          "base_uri": "https://localhost:8080/",
          "height": 333
        },
        "outputId": "2b73cf24-ee11-4c72-804f-d7adc741399e"
      },
      "outputs": [
        {
          "output_type": "stream",
          "name": "stdout",
          "text": [
            "Requirement already satisfied: kaggle in /usr/local/lib/python3.11/dist-packages (1.7.4.5)\n",
            "Requirement already satisfied: bleach in /usr/local/lib/python3.11/dist-packages (from kaggle) (6.2.0)\n",
            "Requirement already satisfied: certifi>=14.05.14 in /usr/local/lib/python3.11/dist-packages (from kaggle) (2025.7.14)\n",
            "Requirement already satisfied: charset-normalizer in /usr/local/lib/python3.11/dist-packages (from kaggle) (3.4.2)\n",
            "Requirement already satisfied: idna in /usr/local/lib/python3.11/dist-packages (from kaggle) (3.10)\n",
            "Requirement already satisfied: protobuf in /usr/local/lib/python3.11/dist-packages (from kaggle) (5.29.5)\n",
            "Requirement already satisfied: python-dateutil>=2.5.3 in /usr/local/lib/python3.11/dist-packages (from kaggle) (2.9.0.post0)\n",
            "Requirement already satisfied: python-slugify in /usr/local/lib/python3.11/dist-packages (from kaggle) (8.0.4)\n",
            "Requirement already satisfied: requests in /usr/local/lib/python3.11/dist-packages (from kaggle) (2.32.3)\n",
            "Requirement already satisfied: setuptools>=21.0.0 in /usr/local/lib/python3.11/dist-packages (from kaggle) (75.2.0)\n",
            "Requirement already satisfied: six>=1.10 in /usr/local/lib/python3.11/dist-packages (from kaggle) (1.17.0)\n",
            "Requirement already satisfied: text-unidecode in /usr/local/lib/python3.11/dist-packages (from kaggle) (1.3)\n",
            "Requirement already satisfied: tqdm in /usr/local/lib/python3.11/dist-packages (from kaggle) (4.67.1)\n",
            "Requirement already satisfied: urllib3>=1.15.1 in /usr/local/lib/python3.11/dist-packages (from kaggle) (2.5.0)\n",
            "Requirement already satisfied: webencodings in /usr/local/lib/python3.11/dist-packages (from kaggle) (0.5.1)\n"
          ]
        },
        {
          "output_type": "display_data",
          "data": {
            "text/plain": [
              "<IPython.core.display.HTML object>"
            ],
            "text/html": [
              "\n",
              "     <input type=\"file\" id=\"files-e5ad6546-c75a-4348-be59-89d4f3994df7\" name=\"files[]\" multiple disabled\n",
              "        style=\"border:none\" />\n",
              "     <output id=\"result-e5ad6546-c75a-4348-be59-89d4f3994df7\">\n",
              "      Upload widget is only available when the cell has been executed in the\n",
              "      current browser session. Please rerun this cell to enable.\n",
              "      </output>\n",
              "      <script>// Copyright 2017 Google LLC\n",
              "//\n",
              "// Licensed under the Apache License, Version 2.0 (the \"License\");\n",
              "// you may not use this file except in compliance with the License.\n",
              "// You may obtain a copy of the License at\n",
              "//\n",
              "//      http://www.apache.org/licenses/LICENSE-2.0\n",
              "//\n",
              "// Unless required by applicable law or agreed to in writing, software\n",
              "// distributed under the License is distributed on an \"AS IS\" BASIS,\n",
              "// WITHOUT WARRANTIES OR CONDITIONS OF ANY KIND, either express or implied.\n",
              "// See the License for the specific language governing permissions and\n",
              "// limitations under the License.\n",
              "\n",
              "/**\n",
              " * @fileoverview Helpers for google.colab Python module.\n",
              " */\n",
              "(function(scope) {\n",
              "function span(text, styleAttributes = {}) {\n",
              "  const element = document.createElement('span');\n",
              "  element.textContent = text;\n",
              "  for (const key of Object.keys(styleAttributes)) {\n",
              "    element.style[key] = styleAttributes[key];\n",
              "  }\n",
              "  return element;\n",
              "}\n",
              "\n",
              "// Max number of bytes which will be uploaded at a time.\n",
              "const MAX_PAYLOAD_SIZE = 100 * 1024;\n",
              "\n",
              "function _uploadFiles(inputId, outputId) {\n",
              "  const steps = uploadFilesStep(inputId, outputId);\n",
              "  const outputElement = document.getElementById(outputId);\n",
              "  // Cache steps on the outputElement to make it available for the next call\n",
              "  // to uploadFilesContinue from Python.\n",
              "  outputElement.steps = steps;\n",
              "\n",
              "  return _uploadFilesContinue(outputId);\n",
              "}\n",
              "\n",
              "// This is roughly an async generator (not supported in the browser yet),\n",
              "// where there are multiple asynchronous steps and the Python side is going\n",
              "// to poll for completion of each step.\n",
              "// This uses a Promise to block the python side on completion of each step,\n",
              "// then passes the result of the previous step as the input to the next step.\n",
              "function _uploadFilesContinue(outputId) {\n",
              "  const outputElement = document.getElementById(outputId);\n",
              "  const steps = outputElement.steps;\n",
              "\n",
              "  const next = steps.next(outputElement.lastPromiseValue);\n",
              "  return Promise.resolve(next.value.promise).then((value) => {\n",
              "    // Cache the last promise value to make it available to the next\n",
              "    // step of the generator.\n",
              "    outputElement.lastPromiseValue = value;\n",
              "    return next.value.response;\n",
              "  });\n",
              "}\n",
              "\n",
              "/**\n",
              " * Generator function which is called between each async step of the upload\n",
              " * process.\n",
              " * @param {string} inputId Element ID of the input file picker element.\n",
              " * @param {string} outputId Element ID of the output display.\n",
              " * @return {!Iterable<!Object>} Iterable of next steps.\n",
              " */\n",
              "function* uploadFilesStep(inputId, outputId) {\n",
              "  const inputElement = document.getElementById(inputId);\n",
              "  inputElement.disabled = false;\n",
              "\n",
              "  const outputElement = document.getElementById(outputId);\n",
              "  outputElement.innerHTML = '';\n",
              "\n",
              "  const pickedPromise = new Promise((resolve) => {\n",
              "    inputElement.addEventListener('change', (e) => {\n",
              "      resolve(e.target.files);\n",
              "    });\n",
              "  });\n",
              "\n",
              "  const cancel = document.createElement('button');\n",
              "  inputElement.parentElement.appendChild(cancel);\n",
              "  cancel.textContent = 'Cancel upload';\n",
              "  const cancelPromise = new Promise((resolve) => {\n",
              "    cancel.onclick = () => {\n",
              "      resolve(null);\n",
              "    };\n",
              "  });\n",
              "\n",
              "  // Wait for the user to pick the files.\n",
              "  const files = yield {\n",
              "    promise: Promise.race([pickedPromise, cancelPromise]),\n",
              "    response: {\n",
              "      action: 'starting',\n",
              "    }\n",
              "  };\n",
              "\n",
              "  cancel.remove();\n",
              "\n",
              "  // Disable the input element since further picks are not allowed.\n",
              "  inputElement.disabled = true;\n",
              "\n",
              "  if (!files) {\n",
              "    return {\n",
              "      response: {\n",
              "        action: 'complete',\n",
              "      }\n",
              "    };\n",
              "  }\n",
              "\n",
              "  for (const file of files) {\n",
              "    const li = document.createElement('li');\n",
              "    li.append(span(file.name, {fontWeight: 'bold'}));\n",
              "    li.append(span(\n",
              "        `(${file.type || 'n/a'}) - ${file.size} bytes, ` +\n",
              "        `last modified: ${\n",
              "            file.lastModifiedDate ? file.lastModifiedDate.toLocaleDateString() :\n",
              "                                    'n/a'} - `));\n",
              "    const percent = span('0% done');\n",
              "    li.appendChild(percent);\n",
              "\n",
              "    outputElement.appendChild(li);\n",
              "\n",
              "    const fileDataPromise = new Promise((resolve) => {\n",
              "      const reader = new FileReader();\n",
              "      reader.onload = (e) => {\n",
              "        resolve(e.target.result);\n",
              "      };\n",
              "      reader.readAsArrayBuffer(file);\n",
              "    });\n",
              "    // Wait for the data to be ready.\n",
              "    let fileData = yield {\n",
              "      promise: fileDataPromise,\n",
              "      response: {\n",
              "        action: 'continue',\n",
              "      }\n",
              "    };\n",
              "\n",
              "    // Use a chunked sending to avoid message size limits. See b/62115660.\n",
              "    let position = 0;\n",
              "    do {\n",
              "      const length = Math.min(fileData.byteLength - position, MAX_PAYLOAD_SIZE);\n",
              "      const chunk = new Uint8Array(fileData, position, length);\n",
              "      position += length;\n",
              "\n",
              "      const base64 = btoa(String.fromCharCode.apply(null, chunk));\n",
              "      yield {\n",
              "        response: {\n",
              "          action: 'append',\n",
              "          file: file.name,\n",
              "          data: base64,\n",
              "        },\n",
              "      };\n",
              "\n",
              "      let percentDone = fileData.byteLength === 0 ?\n",
              "          100 :\n",
              "          Math.round((position / fileData.byteLength) * 100);\n",
              "      percent.textContent = `${percentDone}% done`;\n",
              "\n",
              "    } while (position < fileData.byteLength);\n",
              "  }\n",
              "\n",
              "  // All done.\n",
              "  yield {\n",
              "    response: {\n",
              "      action: 'complete',\n",
              "    }\n",
              "  };\n",
              "}\n",
              "\n",
              "scope.google = scope.google || {};\n",
              "scope.google.colab = scope.google.colab || {};\n",
              "scope.google.colab._files = {\n",
              "  _uploadFiles,\n",
              "  _uploadFilesContinue,\n",
              "};\n",
              "})(self);\n",
              "</script> "
            ]
          },
          "metadata": {}
        },
        {
          "output_type": "stream",
          "name": "stdout",
          "text": [
            "Saving kaggle.json to kaggle.json\n"
          ]
        }
      ],
      "source": [
        "!pip install kaggle\n",
        "from google.colab import files\n",
        "uploaded = files.upload()\n"
      ]
    },
    {
      "cell_type": "code",
      "source": [
        "!kaggle datasets list -s fruit"
      ],
      "metadata": {
        "colab": {
          "base_uri": "https://localhost:8080/"
        },
        "id": "yzCNGo2e60gc",
        "outputId": "71f43e13-800c-4a6e-fb96-a5356ba4a46b"
      },
      "execution_count": 2,
      "outputs": [
        {
          "output_type": "stream",
          "name": "stdout",
          "text": [
            "Traceback (most recent call last):\n",
            "  File \"/usr/local/bin/kaggle\", line 4, in <module>\n",
            "    from kaggle.cli import main\n",
            "  File \"/usr/local/lib/python3.11/dist-packages/kaggle/__init__.py\", line 6, in <module>\n",
            "    api.authenticate()\n",
            "  File \"/usr/local/lib/python3.11/dist-packages/kaggle/api/kaggle_api_extended.py\", line 434, in authenticate\n",
            "    raise IOError('Could not find {}. Make sure it\\'s located in'\n",
            "OSError: Could not find kaggle.json. Make sure it's located in /root/.config/kaggle. Or use the environment method. See setup instructions at https://github.com/Kaggle/kaggle-api/\n"
          ]
        }
      ]
    },
    {
      "cell_type": "code",
      "source": [
        "!mkdir -p ~/.kaggle"
      ],
      "metadata": {
        "id": "dcKPXaUOvliv"
      },
      "execution_count": 3,
      "outputs": []
    },
    {
      "cell_type": "code",
      "source": [
        "!cp kaggle.json ~/.kaggle/"
      ],
      "metadata": {
        "id": "PB5hhb7avp77"
      },
      "execution_count": 4,
      "outputs": []
    },
    {
      "cell_type": "code",
      "source": [
        "!chmod 600 ~/.kaggle/kaggle.json"
      ],
      "metadata": {
        "id": "sqsvaQ0BvxQS"
      },
      "execution_count": 5,
      "outputs": []
    },
    {
      "cell_type": "code",
      "source": [
        "!kaggle datasets download -d muhammad0subhan/fruit-and-vegetable-disease-healthy-vs-rotten --unzip -p /content/data"
      ],
      "metadata": {
        "colab": {
          "base_uri": "https://localhost:8080/"
        },
        "id": "EBoJTQ9Ev2pY",
        "outputId": "0401744b-0db3-427f-89a3-6d5a37bae1ee"
      },
      "execution_count": 6,
      "outputs": [
        {
          "output_type": "stream",
          "name": "stdout",
          "text": [
            "Dataset URL: https://www.kaggle.com/datasets/muhammad0subhan/fruit-and-vegetable-disease-healthy-vs-rotten\n",
            "License(s): CC0-1.0\n",
            "Downloading fruit-and-vegetable-disease-healthy-vs-rotten.zip to /content/data\n",
            "100% 4.75G/4.77G [03:40<00:01, 14.8MB/s]\n",
            "100% 4.77G/4.77G [03:40<00:00, 23.2MB/s]\n"
          ]
        }
      ]
    },
    {
      "cell_type": "code",
      "source": [
        "import os\n",
        "print(\"Contents of /content/data:\")\n",
        "for root, dirs, files in os.walk('/content/data'):\n",
        "    level = root.replace('/content/data', '').count(os.sep)\n",
        "    indent = ' ' * 2 * level\n",
        "    print(f'{indent}{os.path.basename(root)}/')\n",
        "    subindent = ' ' * 2 * (level + 1)\n",
        "    for file in files[:5]:  # Show first 5 files\n",
        "        print(f'{subindent}{file}')\n",
        "    if len(files) > 5:\n",
        "        print(f'{subindent}... and {len(files)-5} more files')"
      ],
      "metadata": {
        "colab": {
          "base_uri": "https://localhost:8080/"
        },
        "id": "Oy9W0rW06wA6",
        "outputId": "759e7b97-97de-48bb-bdf6-d96a6900e523"
      },
      "execution_count": 7,
      "outputs": [
        {
          "output_type": "stream",
          "name": "stdout",
          "text": [
            "Contents of /content/data:\n",
            "data/\n",
            "  Fruit And Vegetable Diseases Dataset/\n",
            "    Tomato__Healthy/\n",
            "      freshTomato (309).png\n",
            "      freshTomato (79).png\n",
            "      freshTomato (45).png\n",
            "      freshTomato (11).jpg\n",
            "      freshTomato (31).png\n",
            "      ... and 599 more files\n",
            "    Carrot__Rotten/\n",
            "      rottenCarrot (236).jpg\n",
            "      rottenCarrot (249).jpg\n",
            "      rottenCarrot (488).jpg\n",
            "      rottenCarrot (552).jpg\n",
            "      rottenCarrot (248).jpg\n",
            "      ... and 575 more files\n",
            "    Bellpepper__Healthy/\n",
            "      freshPepper (245).jpg\n",
            "      freshPepper (115).jpg\n",
            "      freshPepper (139).jpg\n",
            "      freshPepper (19).jpg\n",
            "      freshPepper (557).jpg\n",
            "      ... and 606 more files\n",
            "    Potato__Healthy/\n",
            "      freshPotato (137).jpg\n",
            "      freshPotato (490).jpg\n",
            "      freshPotato (325).jpg\n",
            "      freshPotato (54).jpg\n",
            "      freshPotato (505).jpg\n",
            "      ... and 610 more files\n",
            "    Bellpepper__Rotten/\n",
            "      rottenPepper (378).jpg\n",
            "      rottenPepper (529).jpg\n",
            "      rottenPepper (338).jpg\n",
            "      rottenPepper (545).jpg\n",
            "      rottenPepper (135).jpg\n",
            "      ... and 586 more files\n",
            "    Strawberry__Healthy/\n",
            "      254.jpg\n",
            "      989.jpg\n",
            "      freshStrawberry (389).jpg\n",
            "      freshStrawberry (113).jpg\n",
            "      freshStrawberry (296).jpg\n",
            "      ... and 1598 more files\n",
            "    Strawberry__Rotten/\n",
            "      254.jpg\n",
            "      989.jpg\n",
            "      rottenStrawberry (429).jpg\n",
            "      rottenStrawberry (243).jpg\n",
            "      496.jpg\n",
            "      ... and 1591 more files\n",
            "    Tomato__Rotten/\n",
            "      rottenTomato (208).jpg\n",
            "      rottenTomato (384).jpg\n",
            "      rottenTomato (442).jpg\n",
            "      rottenTomato (275).jpg\n",
            "      rottenTomato (234).jpg\n",
            "      ... and 591 more files\n",
            "    Guava__Healthy/\n",
            "      FreshGuava (71).jpg\n",
            "      FreshGuava (113).jpg\n",
            "      FreshGuava (118).jpg\n",
            "      FreshGuava (149).jpg\n",
            "      FreshGuava (36).jpg\n",
            "      ... and 195 more files\n",
            "    Grape__Rotten/\n",
            "      RottenGrape (171).jpg\n",
            "      RottenGrape (158).jpg\n",
            "      RottenGrape (174).jpg\n",
            "      RottenGrape (195).jpg\n",
            "      RottenGrape (24).jpg\n",
            "      ... and 195 more files\n",
            "    Mango__Rotten/\n",
            "      254.jpg\n",
            "      989.jpg\n",
            "      rottenMango (536).jpg\n",
            "      alternaria_041.jpg\n",
            "      lasio_044.jpg\n",
            "      ... and 2242 more files\n",
            "    Banana__Healthy/\n",
            "      freshBanana (362).jpg\n",
            "      rotated_by_75_Screen Shot 2018-06-12 at 9.59.41 PM.png\n",
            "      freshBanana (110).jpg\n",
            "      freshBanana (122).png\n",
            "      rotated_by_15_Screen Shot 2018-06-12 at 9.50.16 PM.png\n",
            "      ... and 1995 more files\n",
            "    Jujube__Rotten/\n",
            "      RottenJujube (162).jpg\n",
            "      RottenJujube (135).jpg\n",
            "      RottenJujube (172).jpg\n",
            "      RottenJujube (29).jpg\n",
            "      RottenJujube (143).jpg\n",
            "      ... and 195 more files\n",
            "    Pomegranate__Healthy/\n",
            "      FreshPomegranate (75).jpg\n",
            "      FreshPomegranate (131).jpg\n",
            "      FreshPomegranate (115).jpg\n",
            "      FreshPomegranate (7).jpg\n",
            "      FreshPomegranate (80).jpg\n",
            "      ... and 195 more files\n",
            "    Mango__Healthy/\n",
            "      254.jpg\n",
            "      freshMango (21).jpg\n",
            "      989.jpg\n",
            "      496.jpg\n",
            "      healthy_177.jpg\n",
            "      ... and 1808 more files\n",
            "    Cucumber__Healthy/\n",
            "      freshCucumber (388).jpg\n",
            "      freshCucumber (239).jpg\n",
            "      freshCucumber (390).jpg\n",
            "      freshCucumber (537).jpg\n",
            "      freshCucumber (246).jpg\n",
            "      ... and 603 more files\n",
            "    Pomegranate__Rotten/\n",
            "      RottenPomegranate (146).jpg\n",
            "      RottenPomegranate (105).jpg\n",
            "      RottenPomegranate (80).jpg\n",
            "      RottenPomegranate (87).jpg\n",
            "      RottenPomegranate (38).jpg\n",
            "      ... and 195 more files\n",
            "    Potato__Rotten/\n",
            "      rottenPotato (407).jpg\n",
            "      rottenPotato (265).jpg\n",
            "      rottenPotato (261).jpg\n",
            "      rottenPotato (229).jpg\n",
            "      rottenPotato (103).jpg\n",
            "      ... and 580 more files\n",
            "    Carrot__Healthy/\n",
            "      freshCarrot (250).jpg\n",
            "      freshCarrot (434).jpg\n",
            "      freshCarrot (419).jpg\n",
            "      freshCarrot (110).jpg\n",
            "      freshCarrot (112).jpg\n",
            "      ... and 615 more files\n",
            "    Banana__Rotten/\n",
            "      rotated_by_30_Screen Shot 2018-06-12 at 9.12.49 PM.png\n",
            "      rotated_by_60_Screen Shot 2018-06-12 at 9.01.26 PM.png\n",
            "      rottenBanana (253).jpg\n",
            "      rottenBanana (411).jpg\n",
            "      saltandpepper_Screen Shot 2018-06-12 at 9.03.51 PM.png\n",
            "      ... and 2795 more files\n",
            "    Grape__Healthy/\n",
            "      FreshGrape (114).jpg\n",
            "      FreshGrape (71).jpg\n",
            "      FreshGrape (185).jpg\n",
            "      FreshGrape (41).jpg\n",
            "      FreshGrape (150).jpg\n",
            "      ... and 195 more files\n",
            "    Jujube__Healthy/\n",
            "      FreshJujube (110).jpg\n",
            "      FreshJujube (80).jpg\n",
            "      FreshJujube (17).jpg\n",
            "      FreshJujube (141).jpg\n",
            "      FreshJujube (36).jpg\n",
            "      ... and 195 more files\n",
            "    Guava__Rotten/\n",
            "      RottenGuava (3).jpg\n",
            "      RottenGuava (10).jpg\n",
            "      RottenGuava (60).jpg\n",
            "      RottenGuava (198).jpg\n",
            "      RottenGuava (172).jpg\n",
            "      ... and 195 more files\n",
            "    Apple__Rotten/\n",
            "      saltandpepper_Screen Shot 2018-06-08 at 2.40.38 PM.png\n",
            "      rotated_by_15_Screen Shot 2018-06-08 at 2.43.29 PM.png\n",
            "      rotated_by_60_Screen Shot 2018-06-07 at 2.34.49 PM.png\n",
            "      translation_Screen Shot 2018-06-08 at 2.43.29 PM.png\n",
            "      Screen Shot 2018-06-07 at 2.46.22 PM.png\n",
            "      ... and 2925 more files\n",
            "    Apple__Healthy/\n",
            "      rotated_by_45_Screen Shot 2018-06-08 at 5.27.19 PM.png\n",
            "      rotated_by_60_Screen Shot 2018-06-08 at 5.23.23 PM.png\n",
            "      translation_Screen Shot 2018-06-08 at 5.04.42 PM.png\n",
            "      freshApple (206).jpg\n",
            "      rotated_by_30_Screen Shot 2018-06-08 at 5.24.04 PM.png\n",
            "      ... and 2433 more files\n",
            "    Orange__Rotten/\n",
            "      rottenOrange (64).jpg\n",
            "      rottenOrange (164).jpg\n",
            "      rottenOrange (446).jpg\n",
            "      vertical_flip_Screen Shot 2018-06-12 at 11.44.29 PM.png\n",
            "      rotated_by_30_Screen Shot 2018-06-12 at 11.27.52 PM.png\n",
            "      ... and 2181 more files\n",
            "    Cucumber__Rotten/\n",
            "      rottenCucumber (221).jpg\n",
            "      rottenCucumber (291).jpg\n",
            "      rottenCucumber (45).jpg\n",
            "      rottenCucumber (314).jpg\n",
            "      rottenCucumber (164).jpg\n",
            "      ... and 588 more files\n",
            "    Orange__Healthy/\n",
            "      saltandpepper_Screen Shot 2018-06-13 at 12.00.23 AM.png\n",
            "      saltandpepper_Screen Shot 2018-06-13 at 12.04.39 AM.png\n",
            "      rotated_by_75_Screen Shot 2018-06-12 at 11.57.52 PM.png\n",
            "      rotated_by_45_Screen Shot 2018-06-13 at 12.19.17 AM.png\n",
            "      rotated_by_75_Screen Shot 2018-06-13 at 12.10.38 AM.png\n",
            "      ... and 2070 more files\n"
          ]
        }
      ]
    },
    {
      "cell_type": "code",
      "source": [
        "# Verify download\n",
        "print(\" Dataset downloaded!\")\n",
        "!ls /content/data | head -10"
      ],
      "metadata": {
        "colab": {
          "base_uri": "https://localhost:8080/"
        },
        "id": "hBVdUtgR5Z3T",
        "outputId": "77e557ed-f407-42ab-e199-ee758b0faceb"
      },
      "execution_count": 8,
      "outputs": [
        {
          "output_type": "stream",
          "name": "stdout",
          "text": [
            " Dataset downloaded!\n",
            "Fruit And Vegetable Diseases Dataset\n"
          ]
        }
      ]
    },
    {
      "cell_type": "code",
      "source": [
        "# Check GPU\n",
        "import torch\n",
        "device = torch.device('cuda' if torch.cuda.is_available() else 'cpu')\n",
        "print(f\"\\n Using device: {device}\")\n",
        "if torch.cuda.is_available():\n",
        "    print(f\"GPU: {torch.cuda.get_device_name(0)}\")\n",
        "    print(f\"GPU Memory: {torch.cuda.get_device_properties(0).total_memory / 1024**3:.1f} GB\")"
      ],
      "metadata": {
        "colab": {
          "base_uri": "https://localhost:8080/"
        },
        "id": "lNfX5X-k5d8m",
        "outputId": "4b786748-de7b-4ef1-abb8-d00b30948f0b"
      },
      "execution_count": 9,
      "outputs": [
        {
          "output_type": "stream",
          "name": "stdout",
          "text": [
            "\n",
            " Using device: cuda\n",
            "GPU: Tesla T4\n",
            "GPU Memory: 14.7 GB\n"
          ]
        }
      ]
    },
    {
      "cell_type": "code",
      "source": [
        "\n",
        "# CELL 2: Import Libraries\n",
        "\n",
        "\n",
        "import os\n",
        "import torch\n",
        "import torch.nn as nn\n",
        "import torch.optim as optim\n",
        "from torch.utils.data import Dataset, DataLoader, Subset\n",
        "from torchvision import transforms, models\n",
        "from PIL import Image\n",
        "import numpy as np\n",
        "import matplotlib.pyplot as plt\n",
        "import seaborn as sns\n",
        "from sklearn.model_selection import train_test_split\n",
        "from sklearn.metrics import classification_report, confusion_matrix, accuracy_score\n",
        "import time\n",
        "from collections import defaultdict\n",
        "from tqdm import tqdm\n",
        "import warnings\n",
        "warnings.filterwarnings('ignore')\n"
      ],
      "metadata": {
        "id": "W9u-xe9K4OLU"
      },
      "execution_count": 10,
      "outputs": []
    },
    {
      "cell_type": "code",
      "source": [
        "\n",
        "# CELL 3: Configuration\n",
        "\n",
        "\n",
        "class Config:\n",
        "\n",
        "    DATA_DIR = \"/content/data\"\n",
        "\n",
        "\n",
        "    BATCH_SIZE = 16\n",
        "    NUM_EPOCHS = 15\n",
        "    LEARNING_RATE = 0.001\n",
        "    IMG_SIZE = 224\n",
        "\n",
        "\n",
        "    TRAIN_RATIO = 0.7\n",
        "    VAL_RATIO = 0.15\n",
        "    TEST_RATIO = 0.15\n",
        "\n",
        "\n",
        "    DROPOUT_RATE = 0.3\n",
        "\n",
        "config = Config()\n",
        "print(f\" Configuration set: {config.NUM_EPOCHS} epochs, batch size {config.BATCH_SIZE}\")"
      ],
      "metadata": {
        "colab": {
          "base_uri": "https://localhost:8080/"
        },
        "id": "mTp17rjc4Xc6",
        "outputId": "3028bdf1-ed7c-4296-fe40-d52d2e69a19b"
      },
      "execution_count": 11,
      "outputs": [
        {
          "output_type": "stream",
          "name": "stdout",
          "text": [
            " Configuration set: 15 epochs, batch size 16\n"
          ]
        }
      ]
    },
    {
      "cell_type": "code",
      "source": [
        "\n",
        "# CELL 4: Dataset Class\n",
        "\n",
        "\n",
        "class FreshGuardDataset(Dataset):\n",
        "    def __init__(self, data_dir, transform=None):\n",
        "        self.data_dir = data_dir\n",
        "        self.transform = transform\n",
        "        self.samples = []\n",
        "        self.classes = []\n",
        "        self.class_to_idx = {}\n",
        "\n",
        "        self._load_samples()\n",
        "\n",
        "    def _load_samples(self):\n",
        "        \"\"\"Load all image paths and create class mappings\"\"\"\n",
        "        print(f\"📁 Loading dataset from: {self.data_dir}\")\n",
        "\n",
        "\n",
        "        class_dirs = []\n",
        "        for item in os.listdir(self.data_dir):\n",
        "            item_path = os.path.join(self.data_dir, item)\n",
        "            if os.path.isdir(item_path):\n",
        "                class_dirs.append(item)\n",
        "\n",
        "        class_dirs = sorted(class_dirs)\n",
        "\n",
        "\n",
        "        self.class_to_idx = {cls_name: idx for idx, cls_name in enumerate(class_dirs)}\n",
        "        self.classes = class_dirs\n",
        "\n",
        "        print(f\"Found {len(self.classes)} classes:\")\n",
        "\n",
        "\n",
        "        total_images = 0\n",
        "        for class_name in class_dirs:\n",
        "            class_dir = os.path.join(self.data_dir, class_name)\n",
        "            class_idx = self.class_to_idx[class_name]\n",
        "\n",
        "\n",
        "            image_files = []\n",
        "            for file in os.listdir(class_dir):\n",
        "                if file.lower().endswith(('.jpg', '.jpeg', '.png')):\n",
        "                    image_files.append(file)\n",
        "\n",
        "\n",
        "            for img_file in image_files:\n",
        "                img_path = os.path.join(class_dir, img_file)\n",
        "                self.samples.append((img_path, class_idx))\n",
        "\n",
        "            print(f\"   {class_name}: {len(image_files)} images\")\n",
        "            total_images += len(image_files)\n",
        "\n",
        "        print(f\" Total samples: {total_images:,}\")\n",
        "\n",
        "    def __len__(self):\n",
        "        return len(self.samples)\n",
        "\n",
        "    def __getitem__(self, idx):\n",
        "        img_path, label = self.samples[idx]\n",
        "\n",
        "        try:\n",
        "            image = Image.open(img_path).convert('RGB')\n",
        "            if self.transform:\n",
        "                image = self.transform(image)\n",
        "            return image, label\n",
        "        except Exception as e:\n",
        "            print(f\" Error loading {img_path}: {e}\")\n",
        "            blank_image = Image.new('RGB', (224, 224), color='white')\n",
        "            if self.transform:\n",
        "                blank_image = self.transform(blank_image)\n",
        "            return blank_image, label"
      ],
      "metadata": {
        "id": "Zurli01M4iSF"
      },
      "execution_count": 12,
      "outputs": []
    },
    {
      "cell_type": "code",
      "source": [
        "\n",
        "# CELL 5: Data Transforms and Splits\n",
        "\n",
        "\n",
        "def get_transforms():\n",
        "    \"\"\"Get training and validation transforms\"\"\"\n",
        "    train_transform = transforms.Compose([\n",
        "        transforms.Resize((256, 256)),\n",
        "        transforms.RandomCrop(224),\n",
        "        transforms.RandomHorizontalFlip(p=0.5),\n",
        "        transforms.RandomRotation(degrees=15),\n",
        "        transforms.ColorJitter(brightness=0.2, contrast=0.2, saturation=0.2, hue=0.1),\n",
        "        transforms.ToTensor(),\n",
        "        transforms.Normalize(mean=[0.485, 0.456, 0.406], std=[0.229, 0.224, 0.225])\n",
        "    ])\n",
        "\n",
        "    val_transform = transforms.Compose([\n",
        "        transforms.Resize((224, 224)),\n",
        "        transforms.ToTensor(),\n",
        "        transforms.Normalize(mean=[0.485, 0.456, 0.406], std=[0.229, 0.224, 0.225])\n",
        "    ])\n",
        "\n",
        "    return train_transform, val_transform\n",
        "\n",
        "def create_data_splits(dataset, train_ratio=0.7, val_ratio=0.15, test_ratio=0.15):\n",
        "    \"\"\"Split dataset into train, validation, and test sets\"\"\"\n",
        "    print(\"\\n Creating data splits...\")\n",
        "\n",
        "    indices = list(range(len(dataset)))\n",
        "    labels = [dataset.samples[i][1] for i in indices]\n",
        "\n",
        "\n",
        "    train_val_indices, test_indices = train_test_split(\n",
        "        indices, test_size=test_ratio, random_state=42, stratify=labels\n",
        "    )\n",
        "\n",
        "\n",
        "    train_val_labels = [labels[i] for i in train_val_indices]\n",
        "    val_size = val_ratio / (train_ratio + val_ratio)\n",
        "\n",
        "    train_indices, val_indices = train_test_split(\n",
        "        train_val_indices, test_size=val_size, random_state=42, stratify=train_val_labels\n",
        "    )\n",
        "\n",
        "    print(f\"  Dataset Split Summary:\")\n",
        "    print(f\"  Total samples: {len(indices):,}\")\n",
        "    print(f\"  Train: {len(train_indices):,} ({len(train_indices)/len(indices):.1%})\")\n",
        "    print(f\"  Validation: {len(val_indices):,} ({len(val_indices)/len(indices):.1%})\")\n",
        "    print(f\"  Test: {len(test_indices):,} ({len(test_indices)/len(indices):.1%})\")\n",
        "\n",
        "    return train_indices, val_indices, test_indices"
      ],
      "metadata": {
        "id": "JHWBoq7r42fX"
      },
      "execution_count": 13,
      "outputs": []
    },
    {
      "cell_type": "code",
      "source": [
        "\n",
        "# CELL 6: Model Definition\n",
        "\n",
        "\n",
        "class FreshGuardEfficientNet(nn.Module):\n",
        "    def __init__(self, num_classes, dropout_rate=0.3):\n",
        "        super(FreshGuardEfficientNet, self).__init__()\n",
        "\n",
        "\n",
        "        self.backbone = models.efficientnet_b0(weights='DEFAULT')\n",
        "\n",
        "\n",
        "        num_features = self.backbone.classifier[1].in_features\n",
        "\n",
        "\n",
        "        self.backbone.classifier = nn.Sequential(\n",
        "            nn.Dropout(dropout_rate),\n",
        "            nn.Linear(num_features, 512),\n",
        "            nn.ReLU(),\n",
        "            nn.Dropout(dropout_rate * 0.7),\n",
        "            nn.Linear(512, 256),\n",
        "            nn.ReLU(),\n",
        "            nn.Dropout(dropout_rate * 0.5),\n",
        "            nn.Linear(256, num_classes)\n",
        "        )\n",
        "\n",
        "    def forward(self, x):\n",
        "        return self.backbone(x)\n"
      ],
      "metadata": {
        "id": "rN862Z9w49kA"
      },
      "execution_count": 14,
      "outputs": []
    },
    {
      "cell_type": "code",
      "source": [
        "\n",
        "# CELL 7: Training Function\n",
        "\n",
        "\n",
        "def train_model(model, train_loader, val_loader, device, num_epochs=12):\n",
        "    \"\"\"Training function optimized for Colab\"\"\"\n",
        "\n",
        "    criterion = nn.CrossEntropyLoss()\n",
        "    optimizer = optim.AdamW(model.parameters(), lr=config.LEARNING_RATE, weight_decay=1e-4)\n",
        "    scheduler = optim.lr_scheduler.ReduceLROnPlateau(optimizer, mode='min', patience=3, factor=0.5)\n",
        "\n",
        "    history = defaultdict(list)\n",
        "    best_val_acc = 0.0\n",
        "\n",
        "    print(f\"\\n Starting training for {num_epochs} epochs on {device}...\")\n",
        "    print(\"=\" * 70)\n",
        "\n",
        "    for epoch in range(num_epochs):\n",
        "        start_time = time.time()\n",
        "\n",
        "\n",
        "        model.train()\n",
        "        train_loss = 0.0\n",
        "        train_correct = 0\n",
        "        train_total = 0\n",
        "\n",
        "        train_bar = tqdm(train_loader, desc=f\"Epoch {epoch+1}/{num_epochs} [Train]\")\n",
        "        for batch_idx, (data, target) in enumerate(train_bar):\n",
        "            data, target = data.to(device), target.to(device)\n",
        "\n",
        "            optimizer.zero_grad()\n",
        "            output = model(data)\n",
        "            loss = criterion(output, target)\n",
        "            loss.backward()\n",
        "            optimizer.step()\n",
        "\n",
        "            train_loss += loss.item()\n",
        "            _, predicted = torch.max(output.data, 1)\n",
        "            train_total += target.size(0)\n",
        "            train_correct += (predicted == target).sum().item()\n",
        "\n",
        "\n",
        "            train_bar.set_postfix({\n",
        "                'Loss': f'{loss.item():.4f}',\n",
        "                'Acc': f'{100.*train_correct/train_total:.2f}%'\n",
        "            })\n",
        "\n",
        "\n",
        "        model.eval()\n",
        "        val_loss = 0.0\n",
        "        val_correct = 0\n",
        "        val_total = 0\n",
        "\n",
        "        with torch.no_grad():\n",
        "            val_bar = tqdm(val_loader, desc=f\"Epoch {epoch+1}/{num_epochs} [Val]\")\n",
        "            for data, target in val_bar:\n",
        "                data, target = data.to(device), target.to(device)\n",
        "                output = model(data)\n",
        "                loss = criterion(output, target)\n",
        "\n",
        "                val_loss += loss.item()\n",
        "                _, predicted = torch.max(output.data, 1)\n",
        "                val_total += target.size(0)\n",
        "                val_correct += (predicted == target).sum().item()\n",
        "\n",
        "                val_bar.set_postfix({'Acc': f'{100.*val_correct/val_total:.2f}%'})\n",
        "\n",
        "\n",
        "        train_loss = train_loss / len(train_loader)\n",
        "        train_acc = train_correct / train_total\n",
        "        val_loss = val_loss / len(val_loader)\n",
        "        val_acc = val_correct / val_total\n",
        "\n",
        "\n",
        "        scheduler.step(val_loss)\n",
        "\n",
        "\n",
        "        if val_acc > best_val_acc:\n",
        "            best_val_acc = val_acc\n",
        "            torch.save(model.state_dict(), '/content/best_freshguard_model.pth')\n",
        "            print(f\"New best model saved! Val Acc: {val_acc:.4f}\")\n",
        "\n",
        "\n",
        "        history['train_loss'].append(train_loss)\n",
        "        history['train_acc'].append(train_acc)\n",
        "        history['val_loss'].append(val_loss)\n",
        "        history['val_acc'].append(val_acc)\n",
        "\n",
        "        # Print epoch results\n",
        "        epoch_time = time.time() - start_time\n",
        "        print(f\"Epoch {epoch+1:2d}/{num_epochs} | \"\n",
        "              f\"Train Loss: {train_loss:.4f} | Train Acc: {train_acc:.4f} | \"\n",
        "              f\"Val Loss: {val_loss:.4f} | Val Acc: {val_acc:.4f} | \"\n",
        "              f\"Time: {epoch_time:.1f}s\")\n",
        "\n",
        "    print(\"=\" * 70)\n",
        "    print(f\" Training completed! Best validation accuracy: {best_val_acc:.4f}\")\n",
        "\n",
        "    return history, best_val_acc"
      ],
      "metadata": {
        "id": "Hudcl33v5Cr0"
      },
      "execution_count": 15,
      "outputs": []
    },
    {
      "cell_type": "code",
      "source": [
        "\n",
        "# CELL 8: Load Data and Create Model\n",
        "\n",
        "\n",
        "\n",
        "print(\" Checking data structure...\")\n",
        "data_root = \"/content/data\"\n",
        "\n",
        "\n",
        "dataset_folders = []\n",
        "for item in os.listdir(data_root):\n",
        "    item_path = os.path.join(data_root, item)\n",
        "    if os.path.isdir(item_path):\n",
        "\n",
        "        subfolders = [f for f in os.listdir(item_path) if os.path.isdir(os.path.join(item_path, f))]\n",
        "        if len(subfolders) > 1:\n",
        "            dataset_folders.append(item_path)\n",
        "            print(f\"Found dataset folder: {item_path}\")\n",
        "\n",
        "\n",
        "if dataset_folders:\n",
        "    config.DATA_DIR = dataset_folders[0]\n",
        "    print(f\" Using dataset path: {config.DATA_DIR}\")\n",
        "else:\n",
        "\n",
        "    print(f\"Using original path: {config.DATA_DIR}\")\n",
        "\n",
        "\n",
        "print(\"\\n Loading dataset...\")\n",
        "train_transform, val_transform = get_transforms()\n",
        "\n",
        "\n",
        "full_dataset = FreshGuardDataset(config.DATA_DIR, transform=None)\n",
        "num_classes = len(full_dataset.classes)\n",
        "class_names = full_dataset.classes\n",
        "\n",
        "print(f\"\\nDataset Info:\")\n",
        "print(f\"  Classes: {num_classes}\")\n",
        "print(f\"  Class names: {class_names}\")\n",
        "print(f\"  Total images: {len(full_dataset):,}\")\n",
        "\n",
        "\n",
        "if len(full_dataset) == 0:\n",
        "    print(\" No images found! Let's check the folder structure...\")\n",
        "\n",
        "\n",
        "    for root, dirs, files in os.walk(config.DATA_DIR):\n",
        "        if dirs:\n",
        "            print(f\"Folder: {root}\")\n",
        "            print(f\"  Subfolders: {dirs[:10]}\")\n",
        "        if files:\n",
        "            image_files = [f for f in files if f.lower().endswith(('.jpg', '.jpeg', '.png'))]\n",
        "            if image_files:\n",
        "                print(f\"  Images: {len(image_files)}\")\n",
        "                break\n",
        "\n",
        "    raise ValueError(\"No images found in dataset!\")\n",
        "\n",
        "\n",
        "train_indices, val_indices, test_indices = create_data_splits(full_dataset)\n",
        "\n",
        "\n",
        "train_dataset = FreshGuardDataset(config.DATA_DIR, transform=train_transform)\n",
        "val_dataset = FreshGuardDataset(config.DATA_DIR, transform=val_transform)\n",
        "test_dataset = FreshGuardDataset(config.DATA_DIR, transform=val_transform)\n",
        "\n",
        "\n",
        "train_subset = Subset(train_dataset, train_indices)\n",
        "val_subset = Subset(val_dataset, val_indices)\n",
        "test_subset = Subset(test_dataset, test_indices)\n",
        "\n",
        "\n",
        "train_loader = DataLoader(train_subset, batch_size=config.BATCH_SIZE, shuffle=True, num_workers=2)\n",
        "val_loader = DataLoader(val_subset, batch_size=config.BATCH_SIZE, shuffle=False, num_workers=2)\n",
        "test_loader = DataLoader(test_subset, batch_size=config.BATCH_SIZE, shuffle=False, num_workers=2)\n",
        "\n",
        "print(f\"\\n Data Loaders:\")\n",
        "print(f\"  Train batches: {len(train_loader)}\")\n",
        "print(f\"  Val batches: {len(val_loader)}\")\n",
        "print(f\"  Test batches: {len(test_loader)}\")\n",
        "\n",
        "\n",
        "print(f\"\\n Creating EfficientNet-B0 model...\")\n",
        "model = FreshGuardEfficientNet(num_classes=num_classes, dropout_rate=config.DROPOUT_RATE).to(device)\n",
        "\n",
        "total_params = sum(p.numel() for p in model.parameters())\n",
        "trainable_params = sum(p.numel() for p in model.parameters() if p.requires_grad)\n",
        "print(f\"  Total parameters: {total_params:,}\")\n",
        "print(f\"  Trainable parameters: {trainable_params:,}\")\n",
        "print(f\"  Model size: ~{total_params * 4 / 1024 / 1024:.1f} MB\")\n",
        "\n",
        "print(f\"\\n Dataset loaded successfully!\")\n",
        "print(f\"Ready to train on {num_classes} classes with {len(full_dataset):,} total images!\")"
      ],
      "metadata": {
        "colab": {
          "base_uri": "https://localhost:8080/"
        },
        "id": "iUiqYJBI5Dnk",
        "outputId": "d6b7d3eb-7763-4d64-a1a8-d8eefceb158d"
      },
      "execution_count": 16,
      "outputs": [
        {
          "output_type": "stream",
          "name": "stdout",
          "text": [
            " Checking data structure...\n",
            "Found dataset folder: /content/data/Fruit And Vegetable Diseases Dataset\n",
            " Using dataset path: /content/data/Fruit And Vegetable Diseases Dataset\n",
            "\n",
            " Loading dataset...\n",
            "📁 Loading dataset from: /content/data/Fruit And Vegetable Diseases Dataset\n",
            "Found 28 classes:\n",
            "   Apple__Healthy: 2438 images\n",
            "   Apple__Rotten: 2925 images\n",
            "   Banana__Healthy: 1999 images\n",
            "   Banana__Rotten: 2797 images\n",
            "   Bellpepper__Healthy: 611 images\n",
            "   Bellpepper__Rotten: 591 images\n",
            "   Carrot__Healthy: 619 images\n",
            "   Carrot__Rotten: 579 images\n",
            "   Cucumber__Healthy: 608 images\n",
            "   Cucumber__Rotten: 593 images\n",
            "   Grape__Healthy: 200 images\n",
            "   Grape__Rotten: 200 images\n",
            "   Guava__Healthy: 200 images\n",
            "   Guava__Rotten: 200 images\n",
            "   Jujube__Healthy: 200 images\n",
            "   Jujube__Rotten: 200 images\n",
            "   Mango__Healthy: 1813 images\n",
            "   Mango__Rotten: 2247 images\n",
            "   Orange__Healthy: 2075 images\n",
            "   Orange__Rotten: 2186 images\n",
            "   Pomegranate__Healthy: 200 images\n",
            "   Pomegranate__Rotten: 200 images\n",
            "   Potato__Healthy: 614 images\n",
            "   Potato__Rotten: 584 images\n",
            "   Strawberry__Healthy: 1603 images\n",
            "   Strawberry__Rotten: 1596 images\n",
            "   Tomato__Healthy: 604 images\n",
            "   Tomato__Rotten: 595 images\n",
            " Total samples: 29,277\n",
            "\n",
            "Dataset Info:\n",
            "  Classes: 28\n",
            "  Class names: ['Apple__Healthy', 'Apple__Rotten', 'Banana__Healthy', 'Banana__Rotten', 'Bellpepper__Healthy', 'Bellpepper__Rotten', 'Carrot__Healthy', 'Carrot__Rotten', 'Cucumber__Healthy', 'Cucumber__Rotten', 'Grape__Healthy', 'Grape__Rotten', 'Guava__Healthy', 'Guava__Rotten', 'Jujube__Healthy', 'Jujube__Rotten', 'Mango__Healthy', 'Mango__Rotten', 'Orange__Healthy', 'Orange__Rotten', 'Pomegranate__Healthy', 'Pomegranate__Rotten', 'Potato__Healthy', 'Potato__Rotten', 'Strawberry__Healthy', 'Strawberry__Rotten', 'Tomato__Healthy', 'Tomato__Rotten']\n",
            "  Total images: 29,277\n",
            "\n",
            " Creating data splits...\n",
            "  Dataset Split Summary:\n",
            "  Total samples: 29,277\n",
            "  Train: 20,493 (70.0%)\n",
            "  Validation: 4,392 (15.0%)\n",
            "  Test: 4,392 (15.0%)\n",
            "📁 Loading dataset from: /content/data/Fruit And Vegetable Diseases Dataset\n",
            "Found 28 classes:\n",
            "   Apple__Healthy: 2438 images\n",
            "   Apple__Rotten: 2925 images\n",
            "   Banana__Healthy: 1999 images\n",
            "   Banana__Rotten: 2797 images\n",
            "   Bellpepper__Healthy: 611 images\n",
            "   Bellpepper__Rotten: 591 images\n",
            "   Carrot__Healthy: 619 images\n",
            "   Carrot__Rotten: 579 images\n",
            "   Cucumber__Healthy: 608 images\n",
            "   Cucumber__Rotten: 593 images\n",
            "   Grape__Healthy: 200 images\n",
            "   Grape__Rotten: 200 images\n",
            "   Guava__Healthy: 200 images\n",
            "   Guava__Rotten: 200 images\n",
            "   Jujube__Healthy: 200 images\n",
            "   Jujube__Rotten: 200 images\n",
            "   Mango__Healthy: 1813 images\n",
            "   Mango__Rotten: 2247 images\n",
            "   Orange__Healthy: 2075 images\n",
            "   Orange__Rotten: 2186 images\n",
            "   Pomegranate__Healthy: 200 images\n",
            "   Pomegranate__Rotten: 200 images\n",
            "   Potato__Healthy: 614 images\n",
            "   Potato__Rotten: 584 images\n",
            "   Strawberry__Healthy: 1603 images\n",
            "   Strawberry__Rotten: 1596 images\n",
            "   Tomato__Healthy: 604 images\n",
            "   Tomato__Rotten: 595 images\n",
            " Total samples: 29,277\n",
            "📁 Loading dataset from: /content/data/Fruit And Vegetable Diseases Dataset\n",
            "Found 28 classes:\n",
            "   Apple__Healthy: 2438 images\n",
            "   Apple__Rotten: 2925 images\n",
            "   Banana__Healthy: 1999 images\n",
            "   Banana__Rotten: 2797 images\n",
            "   Bellpepper__Healthy: 611 images\n",
            "   Bellpepper__Rotten: 591 images\n",
            "   Carrot__Healthy: 619 images\n",
            "   Carrot__Rotten: 579 images\n",
            "   Cucumber__Healthy: 608 images\n",
            "   Cucumber__Rotten: 593 images\n",
            "   Grape__Healthy: 200 images\n",
            "   Grape__Rotten: 200 images\n",
            "   Guava__Healthy: 200 images\n",
            "   Guava__Rotten: 200 images\n",
            "   Jujube__Healthy: 200 images\n",
            "   Jujube__Rotten: 200 images\n",
            "   Mango__Healthy: 1813 images\n",
            "   Mango__Rotten: 2247 images\n",
            "   Orange__Healthy: 2075 images\n",
            "   Orange__Rotten: 2186 images\n",
            "   Pomegranate__Healthy: 200 images\n",
            "   Pomegranate__Rotten: 200 images\n",
            "   Potato__Healthy: 614 images\n",
            "   Potato__Rotten: 584 images\n",
            "   Strawberry__Healthy: 1603 images\n",
            "   Strawberry__Rotten: 1596 images\n",
            "   Tomato__Healthy: 604 images\n",
            "   Tomato__Rotten: 595 images\n",
            " Total samples: 29,277\n",
            "📁 Loading dataset from: /content/data/Fruit And Vegetable Diseases Dataset\n",
            "Found 28 classes:\n",
            "   Apple__Healthy: 2438 images\n",
            "   Apple__Rotten: 2925 images\n",
            "   Banana__Healthy: 1999 images\n",
            "   Banana__Rotten: 2797 images\n",
            "   Bellpepper__Healthy: 611 images\n",
            "   Bellpepper__Rotten: 591 images\n",
            "   Carrot__Healthy: 619 images\n",
            "   Carrot__Rotten: 579 images\n",
            "   Cucumber__Healthy: 608 images\n",
            "   Cucumber__Rotten: 593 images\n",
            "   Grape__Healthy: 200 images\n",
            "   Grape__Rotten: 200 images\n",
            "   Guava__Healthy: 200 images\n",
            "   Guava__Rotten: 200 images\n",
            "   Jujube__Healthy: 200 images\n",
            "   Jujube__Rotten: 200 images\n",
            "   Mango__Healthy: 1813 images\n",
            "   Mango__Rotten: 2247 images\n",
            "   Orange__Healthy: 2075 images\n",
            "   Orange__Rotten: 2186 images\n",
            "   Pomegranate__Healthy: 200 images\n",
            "   Pomegranate__Rotten: 200 images\n",
            "   Potato__Healthy: 614 images\n",
            "   Potato__Rotten: 584 images\n",
            "   Strawberry__Healthy: 1603 images\n",
            "   Strawberry__Rotten: 1596 images\n",
            "   Tomato__Healthy: 604 images\n",
            "   Tomato__Rotten: 595 images\n",
            " Total samples: 29,277\n",
            "\n",
            " Data Loaders:\n",
            "  Train batches: 1281\n",
            "  Val batches: 275\n",
            "  Test batches: 275\n",
            "\n",
            " Creating EfficientNet-B0 model...\n"
          ]
        },
        {
          "output_type": "stream",
          "name": "stderr",
          "text": [
            "Downloading: \"https://download.pytorch.org/models/efficientnet_b0_rwightman-7f5810bc.pth\" to /root/.cache/torch/hub/checkpoints/efficientnet_b0_rwightman-7f5810bc.pth\n",
            "100%|██████████| 20.5M/20.5M [00:00<00:00, 150MB/s]\n"
          ]
        },
        {
          "output_type": "stream",
          "name": "stdout",
          "text": [
            "  Total parameters: 4,801,944\n",
            "  Trainable parameters: 4,801,944\n",
            "  Model size: ~18.3 MB\n",
            "\n",
            " Dataset loaded successfully!\n",
            "Ready to train on 28 classes with 29,277 total images!\n"
          ]
        }
      ]
    },
    {
      "cell_type": "code",
      "source": [
        "\n",
        "# CELL 9: Train the Model\n",
        "\n",
        "print(f\"\\n Starting training on {device}...\")\n",
        "history, best_val_acc = train_model(model, train_loader, val_loader, device, config.NUM_EPOCHS)"
      ],
      "metadata": {
        "colab": {
          "base_uri": "https://localhost:8080/"
        },
        "id": "7mqUEPIA5L_1",
        "outputId": "500779f7-674b-44df-b5e9-4a1e514df4ea"
      },
      "execution_count": 17,
      "outputs": [
        {
          "output_type": "stream",
          "name": "stdout",
          "text": [
            "\n",
            " Starting training on cuda...\n",
            "\n",
            " Starting training for 15 epochs on cuda...\n",
            "======================================================================\n"
          ]
        },
        {
          "output_type": "stream",
          "name": "stderr",
          "text": [
            "Epoch 1/15 [Train]: 100%|██████████| 1281/1281 [06:38<00:00,  3.21it/s, Loss=0.8378, Acc=72.80%]\n",
            "Epoch 1/15 [Val]: 100%|██████████| 275/275 [00:55<00:00,  4.92it/s, Acc=87.45%]\n"
          ]
        },
        {
          "output_type": "stream",
          "name": "stdout",
          "text": [
            "New best model saved! Val Acc: 0.8745\n",
            "Epoch  1/15 | Train Loss: 0.9363 | Train Acc: 0.7280 | Val Loss: 0.4243 | Val Acc: 0.8745 | Time: 455.0s\n"
          ]
        },
        {
          "output_type": "stream",
          "name": "stderr",
          "text": [
            "Epoch 2/15 [Train]: 100%|██████████| 1281/1281 [06:32<00:00,  3.26it/s, Loss=0.4772, Acc=84.98%]\n",
            "Epoch 2/15 [Val]: 100%|██████████| 275/275 [00:53<00:00,  5.13it/s, Acc=92.26%]\n"
          ]
        },
        {
          "output_type": "stream",
          "name": "stdout",
          "text": [
            "New best model saved! Val Acc: 0.9226\n",
            "Epoch  2/15 | Train Loss: 0.5013 | Train Acc: 0.8498 | Val Loss: 0.2721 | Val Acc: 0.9226 | Time: 446.5s\n"
          ]
        },
        {
          "output_type": "stream",
          "name": "stderr",
          "text": [
            "Epoch 3/15 [Train]: 100%|██████████| 1281/1281 [06:27<00:00,  3.30it/s, Loss=0.4757, Acc=87.39%]\n",
            "Epoch 3/15 [Val]: 100%|██████████| 275/275 [00:53<00:00,  5.10it/s, Acc=89.39%]\n"
          ]
        },
        {
          "output_type": "stream",
          "name": "stdout",
          "text": [
            "Epoch  3/15 | Train Loss: 0.4205 | Train Acc: 0.8739 | Val Loss: 0.3548 | Val Acc: 0.8939 | Time: 441.9s\n"
          ]
        },
        {
          "output_type": "stream",
          "name": "stderr",
          "text": [
            "Epoch 4/15 [Train]: 100%|██████████| 1281/1281 [06:29<00:00,  3.29it/s, Loss=0.6548, Acc=89.45%]\n",
            "Epoch 4/15 [Val]: 100%|██████████| 275/275 [00:53<00:00,  5.12it/s, Acc=90.76%]\n"
          ]
        },
        {
          "output_type": "stream",
          "name": "stdout",
          "text": [
            "Epoch  4/15 | Train Loss: 0.3601 | Train Acc: 0.8945 | Val Loss: 0.3109 | Val Acc: 0.9076 | Time: 443.4s\n"
          ]
        },
        {
          "output_type": "stream",
          "name": "stderr",
          "text": [
            "Epoch 5/15 [Train]: 100%|██████████| 1281/1281 [06:17<00:00,  3.39it/s, Loss=0.5893, Acc=89.88%]\n",
            "Epoch 5/15 [Val]: 100%|██████████| 275/275 [00:51<00:00,  5.35it/s, Acc=91.35%]\n"
          ]
        },
        {
          "output_type": "stream",
          "name": "stdout",
          "text": [
            "Epoch  5/15 | Train Loss: 0.3447 | Train Acc: 0.8988 | Val Loss: 0.2978 | Val Acc: 0.9135 | Time: 429.2s\n"
          ]
        },
        {
          "output_type": "stream",
          "name": "stderr",
          "text": [
            "Epoch 6/15 [Train]: 100%|██████████| 1281/1281 [06:13<00:00,  3.43it/s, Loss=0.1787, Acc=91.09%]\n",
            "Epoch 6/15 [Val]: 100%|██████████| 275/275 [00:52<00:00,  5.29it/s, Acc=93.60%]\n"
          ]
        },
        {
          "output_type": "stream",
          "name": "stdout",
          "text": [
            "New best model saved! Val Acc: 0.9360\n",
            "Epoch  6/15 | Train Loss: 0.3022 | Train Acc: 0.9109 | Val Loss: 0.2199 | Val Acc: 0.9360 | Time: 425.4s\n"
          ]
        },
        {
          "output_type": "stream",
          "name": "stderr",
          "text": [
            "Epoch 7/15 [Train]: 100%|██████████| 1281/1281 [06:16<00:00,  3.40it/s, Loss=0.2324, Acc=91.57%]\n",
            "Epoch 7/15 [Val]: 100%|██████████| 275/275 [00:52<00:00,  5.27it/s, Acc=92.46%]\n"
          ]
        },
        {
          "output_type": "stream",
          "name": "stdout",
          "text": [
            "Epoch  7/15 | Train Loss: 0.2874 | Train Acc: 0.9157 | Val Loss: 0.2659 | Val Acc: 0.9246 | Time: 429.0s\n"
          ]
        },
        {
          "output_type": "stream",
          "name": "stderr",
          "text": [
            "Epoch 8/15 [Train]: 100%|██████████| 1281/1281 [06:24<00:00,  3.33it/s, Loss=0.0361, Acc=91.79%]\n",
            "Epoch 8/15 [Val]: 100%|██████████| 275/275 [00:53<00:00,  5.13it/s, Acc=94.03%]\n"
          ]
        },
        {
          "output_type": "stream",
          "name": "stdout",
          "text": [
            "New best model saved! Val Acc: 0.9403\n",
            "Epoch  8/15 | Train Loss: 0.2871 | Train Acc: 0.9179 | Val Loss: 0.2100 | Val Acc: 0.9403 | Time: 438.2s\n"
          ]
        },
        {
          "output_type": "stream",
          "name": "stderr",
          "text": [
            "Epoch 9/15 [Train]: 100%|██████████| 1281/1281 [06:21<00:00,  3.36it/s, Loss=0.0665, Acc=92.52%]\n",
            "Epoch 9/15 [Val]: 100%|██████████| 275/275 [00:53<00:00,  5.14it/s, Acc=93.85%]\n"
          ]
        },
        {
          "output_type": "stream",
          "name": "stdout",
          "text": [
            "Epoch  9/15 | Train Loss: 0.2548 | Train Acc: 0.9252 | Val Loss: 0.1952 | Val Acc: 0.9385 | Time: 434.6s\n"
          ]
        },
        {
          "output_type": "stream",
          "name": "stderr",
          "text": [
            "Epoch 10/15 [Train]: 100%|██████████| 1281/1281 [06:18<00:00,  3.38it/s, Loss=0.4490, Acc=92.73%]\n",
            "Epoch 10/15 [Val]: 100%|██████████| 275/275 [00:51<00:00,  5.29it/s, Acc=94.72%]\n"
          ]
        },
        {
          "output_type": "stream",
          "name": "stdout",
          "text": [
            "New best model saved! Val Acc: 0.9472\n",
            "Epoch 10/15 | Train Loss: 0.2462 | Train Acc: 0.9273 | Val Loss: 0.1896 | Val Acc: 0.9472 | Time: 430.7s\n"
          ]
        },
        {
          "output_type": "stream",
          "name": "stderr",
          "text": [
            "Epoch 11/15 [Train]: 100%|██████████| 1281/1281 [06:14<00:00,  3.42it/s, Loss=0.3764, Acc=93.30%]\n",
            "Epoch 11/15 [Val]: 100%|██████████| 275/275 [00:52<00:00,  5.26it/s, Acc=94.60%]\n"
          ]
        },
        {
          "output_type": "stream",
          "name": "stdout",
          "text": [
            "Epoch 11/15 | Train Loss: 0.2340 | Train Acc: 0.9330 | Val Loss: 0.1801 | Val Acc: 0.9460 | Time: 426.9s\n"
          ]
        },
        {
          "output_type": "stream",
          "name": "stderr",
          "text": [
            "Epoch 12/15 [Train]: 100%|██████████| 1281/1281 [06:10<00:00,  3.46it/s, Loss=0.1334, Acc=93.32%]\n",
            "Epoch 12/15 [Val]: 100%|██████████| 275/275 [00:51<00:00,  5.35it/s, Acc=95.24%]\n"
          ]
        },
        {
          "output_type": "stream",
          "name": "stdout",
          "text": [
            "New best model saved! Val Acc: 0.9524\n",
            "Epoch 12/15 | Train Loss: 0.2359 | Train Acc: 0.9332 | Val Loss: 0.1718 | Val Acc: 0.9524 | Time: 421.8s\n"
          ]
        },
        {
          "output_type": "stream",
          "name": "stderr",
          "text": [
            "Epoch 13/15 [Train]: 100%|██████████| 1281/1281 [06:11<00:00,  3.44it/s, Loss=0.2062, Acc=93.73%]\n",
            "Epoch 13/15 [Val]: 100%|██████████| 275/275 [00:53<00:00,  5.19it/s, Acc=93.88%]\n"
          ]
        },
        {
          "output_type": "stream",
          "name": "stdout",
          "text": [
            "Epoch 13/15 | Train Loss: 0.2177 | Train Acc: 0.9373 | Val Loss: 0.2566 | Val Acc: 0.9388 | Time: 425.0s\n"
          ]
        },
        {
          "output_type": "stream",
          "name": "stderr",
          "text": [
            "Epoch 14/15 [Train]: 100%|██████████| 1281/1281 [06:17<00:00,  3.39it/s, Loss=0.0714, Acc=93.92%]\n",
            "Epoch 14/15 [Val]: 100%|██████████| 275/275 [00:51<00:00,  5.32it/s, Acc=94.85%]\n"
          ]
        },
        {
          "output_type": "stream",
          "name": "stdout",
          "text": [
            "Epoch 14/15 | Train Loss: 0.2147 | Train Acc: 0.9392 | Val Loss: 0.2045 | Val Acc: 0.9485 | Time: 429.4s\n"
          ]
        },
        {
          "output_type": "stream",
          "name": "stderr",
          "text": [
            "Epoch 15/15 [Train]: 100%|██████████| 1281/1281 [06:13<00:00,  3.43it/s, Loss=0.0185, Acc=94.04%]\n",
            "Epoch 15/15 [Val]: 100%|██████████| 275/275 [00:52<00:00,  5.27it/s, Acc=95.58%]"
          ]
        },
        {
          "output_type": "stream",
          "name": "stdout",
          "text": [
            "New best model saved! Val Acc: 0.9558\n",
            "Epoch 15/15 | Train Loss: 0.2144 | Train Acc: 0.9404 | Val Loss: 0.1596 | Val Acc: 0.9558 | Time: 425.4s\n",
            "======================================================================\n",
            " Training completed! Best validation accuracy: 0.9558\n"
          ]
        },
        {
          "output_type": "stream",
          "name": "stderr",
          "text": [
            "\n"
          ]
        }
      ]
    },
    {
      "cell_type": "code",
      "source": [
        "\n",
        "# CELL 10: Evaluate and Visualize\n",
        "\n",
        "\n",
        "\n",
        "print(f\"\\n Loading best model for final evaluation...\")\n",
        "model.load_state_dict(torch.load('/content/best_freshguard_model.pth'))\n",
        "model.eval()\n",
        "\n",
        "\n",
        "print(\" Final test evaluation...\")\n",
        "all_predictions = []\n",
        "all_targets = []\n",
        "\n",
        "with torch.no_grad():\n",
        "    for data, target in tqdm(test_loader, desc=\"Testing\"):\n",
        "        data, target = data.to(device), target.to(device)\n",
        "        output = model(data)\n",
        "        _, predicted = torch.max(output, 1)\n",
        "\n",
        "        all_predictions.extend(predicted.cpu().numpy())\n",
        "        all_targets.extend(target.cpu().numpy())\n",
        "\n",
        "\n",
        "test_accuracy = accuracy_score(all_targets, all_predictions)\n",
        "\n",
        "\n",
        "print(f\"\\n Final Results:\")\n",
        "print(f\"  Best Validation Accuracy: {best_val_acc:.4f} ({best_val_acc*100:.2f}%)\")\n",
        "print(f\"  Final Test Accuracy: {test_accuracy:.4f} ({test_accuracy*100:.2f}%)\")\n",
        "\n",
        "\n",
        "plt.figure(figsize=(18, 6))\n",
        "\n",
        "\n",
        "plt.subplot(1, 3, 1)\n",
        "plt.plot(history['train_loss'], label='Train Loss', linewidth=2, color='blue')\n",
        "plt.plot(history['val_loss'], label='Val Loss', linewidth=2, color='red')\n",
        "plt.title('Model Loss', fontsize=14, fontweight='bold')\n",
        "plt.xlabel('Epoch')\n",
        "plt.ylabel('Loss')\n",
        "plt.legend()\n",
        "plt.grid(True, alpha=0.3)\n",
        "\n",
        "plt.subplot(1, 3, 2)\n",
        "plt.plot(history['train_acc'], label='Train Acc', linewidth=2, color='blue')\n",
        "plt.plot(history['val_acc'], label='Val Acc', linewidth=2, color='red')\n",
        "plt.title('Model Accuracy', fontsize=14, fontweight='bold')\n",
        "plt.xlabel('Epoch')\n",
        "plt.ylabel('Accuracy')\n",
        "plt.legend()\n",
        "plt.grid(True, alpha=0.3)\n",
        "\n",
        "\n",
        "plt.subplot(1, 3, 3)\n",
        "results = [best_val_acc, test_accuracy]\n",
        "labels = ['Best Validation', 'Final Test']\n",
        "colors = ['skyblue', 'lightgreen']\n",
        "\n",
        "bars = plt.bar(labels, results, color=colors, alpha=0.8)\n",
        "plt.title('Final Results Comparison', fontsize=14, fontweight='bold')\n",
        "plt.ylabel('Accuracy')\n",
        "plt.ylim(0, 1)\n",
        "\n",
        "\n",
        "for bar, result in zip(bars, results):\n",
        "    plt.text(bar.get_x() + bar.get_width()/2, bar.get_height() + 0.01,\n",
        "             f'{result:.3f}', ha='center', va='bottom', fontweight='bold')\n",
        "\n",
        "plt.tight_layout()\n",
        "plt.show()\n",
        "\n",
        "\n",
        "print(f\"\\n Detailed Classification Report:\")\n",
        "report = classification_report(all_targets, all_predictions, target_names=class_names)\n",
        "print(report)"
      ],
      "metadata": {
        "colab": {
          "base_uri": "https://localhost:8080/",
          "height": 1000
        },
        "id": "Gu2hk_E75QDL",
        "outputId": "4c2a83b3-f452-44e8-e74e-a83aedf6fdfa"
      },
      "execution_count": 18,
      "outputs": [
        {
          "output_type": "stream",
          "name": "stdout",
          "text": [
            "\n",
            " Loading best model for final evaluation...\n",
            " Final test evaluation...\n"
          ]
        },
        {
          "output_type": "stream",
          "name": "stderr",
          "text": [
            "Testing: 100%|██████████| 275/275 [00:51<00:00,  5.37it/s]\n"
          ]
        },
        {
          "output_type": "stream",
          "name": "stdout",
          "text": [
            "\n",
            " Final Results:\n",
            "  Best Validation Accuracy: 0.9558 (95.58%)\n",
            "  Final Test Accuracy: 0.9540 (95.40%)\n"
          ]
        },
        {
          "output_type": "display_data",
          "data": {
            "text/plain": [
              "<Figure size 1800x600 with 3 Axes>"
            ],
            "image/png": "[encoded data removed]"
          },
          "metadata": {}
        },
        {
          "output_type": "stream",
          "name": "stdout",
          "text": [
            "\n",
            " Detailed Classification Report:\n",
            "                      precision    recall  f1-score   support\n",
            "\n",
            "      Apple__Healthy       0.99      0.98      0.98       366\n",
            "       Apple__Rotten       0.99      0.95      0.97       439\n",
            "     Banana__Healthy       0.99      1.00      0.99       300\n",
            "      Banana__Rotten       0.99      1.00      0.99       419\n",
            " Bellpepper__Healthy       1.00      0.80      0.89        92\n",
            "  Bellpepper__Rotten       0.81      0.76      0.79        89\n",
            "     Carrot__Healthy       0.97      0.91      0.94        93\n",
            "      Carrot__Rotten       0.89      0.87      0.88        87\n",
            "   Cucumber__Healthy       0.96      1.00      0.98        91\n",
            "    Cucumber__Rotten       0.89      0.96      0.92        89\n",
            "      Grape__Healthy       0.88      1.00      0.94        30\n",
            "       Grape__Rotten       0.96      0.90      0.93        30\n",
            "      Guava__Healthy       1.00      1.00      1.00        30\n",
            "       Guava__Rotten       0.83      0.97      0.89        30\n",
            "     Jujube__Healthy       0.94      0.97      0.95        30\n",
            "      Jujube__Rotten       0.70      1.00      0.82        30\n",
            "      Mango__Healthy       0.99      0.92      0.95       272\n",
            "       Mango__Rotten       0.99      0.92      0.96       337\n",
            "     Orange__Healthy       0.95      0.99      0.97       311\n",
            "      Orange__Rotten       0.95      0.96      0.96       328\n",
            "Pomegranate__Healthy       1.00      0.83      0.91        30\n",
            " Pomegranate__Rotten       0.86      1.00      0.92        30\n",
            "     Potato__Healthy       0.95      0.96      0.95        92\n",
            "      Potato__Rotten       0.65      0.92      0.76        88\n",
            " Strawberry__Healthy       1.00      0.98      0.99       240\n",
            "  Strawberry__Rotten       0.98      0.97      0.98       239\n",
            "     Tomato__Healthy       0.87      0.97      0.92        91\n",
            "      Tomato__Rotten       0.92      0.89      0.90        89\n",
            "\n",
            "            accuracy                           0.95      4392\n",
            "           macro avg       0.92      0.94      0.93      4392\n",
            "        weighted avg       0.96      0.95      0.95      4392\n",
            "\n"
          ]
        }
      ]
    },
    {
      "cell_type": "code",
      "source": [
        "# CELL 11: Download Trained Model\n",
        "\n",
        "\n",
        "\n",
        "from google.colab import files\n",
        "\n",
        "print(\" Downloading trained model to your computer...\")\n",
        "files.download('/content/best_freshguard_model.pth')\n",
        "\n",
        "\n",
        "summary = {\n",
        "    'model_name': 'EfficientNet-B0',\n",
        "    'num_classes': num_classes,\n",
        "    'total_params': total_params,\n",
        "    'best_val_accuracy': best_val_acc,\n",
        "    'test_accuracy': test_accuracy,\n",
        "    'training_epochs': len(history['train_loss']),\n",
        "    'device_used': str(device)\n",
        "}\n",
        "\n",
        "print(f\"\\n FreshGuard AI Training Complete!\")\n",
        "print(f\" Summary:\")\n",
        "for key, value in summary.items():\n",
        "    print(f\"  {key}: {value}\")\n",
        "\n",
        "print(f\"\\n Your model is ready to use!\")\n",
        "print(f\" Model file downloaded: best_freshguard_model.pth\")\n",
        "print(f\" You can now use this model in your local projects!\")\n"
      ],
      "metadata": {
        "colab": {
          "base_uri": "https://localhost:8080/",
          "height": 277
        },
        "id": "qt7--XzQ5SWc",
        "outputId": "78698dfb-d166-47d8-e30f-be9b1a1cf318"
      },
      "execution_count": 19,
      "outputs": [
        {
          "output_type": "stream",
          "name": "stdout",
          "text": [
            " Downloading trained model to your computer...\n"
          ]
        },
        {
          "output_type": "display_data",
          "data": {
            "text/plain": [
              "<IPython.core.display.Javascript object>"
            ],
            "application/javascript": [
              "\n",
              "    async function download(id, filename, size) {\n",
              "      if (!google.colab.kernel.accessAllowed) {\n",
              "        return;\n",
              "      }\n",
              "      const div = document.createElement('div');\n",
              "      const label = document.createElement('label');\n",
              "      label.textContent = `Downloading \"${filename}\": `;\n",
              "      div.appendChild(label);\n",
              "      const progress = document.createElement('progress');\n",
              "      progress.max = size;\n",
              "      div.appendChild(progress);\n",
              "      document.body.appendChild(div);\n",
              "\n",
              "      const buffers = [];\n",
              "      let downloaded = 0;\n",
              "\n",
              "      const channel = await google.colab.kernel.comms.open(id);\n",
              "      // Send a message to notify the kernel that we're ready.\n",
              "      channel.send({})\n",
              "\n",
              "      for await (const message of channel.messages) {\n",
              "        // Send a message to notify the kernel that we're ready.\n",
              "        channel.send({})\n",
              "        if (message.buffers) {\n",
              "          for (const buffer of message.buffers) {\n",
              "            buffers.push(buffer);\n",
              "            downloaded += buffer.byteLength;\n",
              "            progress.value = downloaded;\n",
              "          }\n",
              "        }\n",
              "      }\n",
              "      const blob = new Blob(buffers, {type: 'application/binary'});\n",
              "      const a = document.createElement('a');\n",
              "      a.href = window.URL.createObjectURL(blob);\n",
              "      a.download = filename;\n",
              "      div.appendChild(a);\n",
              "      a.click();\n",
              "      div.remove();\n",
              "    }\n",
              "  "
            ]
          },
          "metadata": {}
        },
        {
          "output_type": "display_data",
          "data": {
            "text/plain": [
              "<IPython.core.display.Javascript object>"
            ],
            "application/javascript": [
              "download(\"download_0728eb4f-aafa-4769-bc9c-bcd3f3bb7341\", \"best_freshguard_model.pth\", 19518778)"
            ]
          },
          "metadata": {}
        },
        {
          "output_type": "stream",
          "name": "stdout",
          "text": [
            "\n",
            " FreshGuard AI Training Complete!\n",
            " Summary:\n",
            "  model_name: EfficientNet-B0\n",
            "  num_classes: 28\n",
            "  total_params: 4801944\n",
            "  best_val_accuracy: 0.9558287795992714\n",
            "  test_accuracy: 0.9540072859744991\n",
            "  training_epochs: 15\n",
            "  device_used: cuda\n",
            "\n",
            " Your model is ready to use!\n",
            " Model file downloaded: best_freshguard_model.pth\n",
            " You can now use this model in your local projects!\n"
          ]
        }
      ]
    }
  ]
}